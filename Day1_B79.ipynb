{
 "cells": [
  {
   "cell_type": "code",
   "execution_count": 1,
   "id": "0dbb069a",
   "metadata": {},
   "outputs": [
    {
     "name": "stdout",
     "output_type": "stream",
     "text": [
      "Hello Guys Myname is Girish Bane, I am 23 Years old.\n"
     ]
    }
   ],
   "source": [
    "print(\"Hello Guys Myname is Girish Bane, I am 23 Years old.\")"
   ]
  },
  {
   "cell_type": "code",
   "execution_count": null,
   "id": "e65c94f9",
   "metadata": {},
   "outputs": [],
   "source": [
    "#shift+enter for run command directly."
   ]
  },
  {
   "cell_type": "code",
   "execution_count": 2,
   "id": "fed8f802",
   "metadata": {},
   "outputs": [
    {
     "name": "stdout",
     "output_type": "stream",
     "text": [
      "Press Shift + Enter for run command directly.\n"
     ]
    }
   ],
   "source": [
    "print(\"Press Shift + Enter for run command directly.\")"
   ]
  },
  {
   "cell_type": "code",
   "execution_count": null,
   "id": "f7054965",
   "metadata": {},
   "outputs": [],
   "source": []
  }
 ],
 "metadata": {
  "kernelspec": {
   "display_name": "Python 3 (ipykernel)",
   "language": "python",
   "name": "python3"
  },
  "language_info": {
   "codemirror_mode": {
    "name": "ipython",
    "version": 3
   },
   "file_extension": ".py",
   "mimetype": "text/x-python",
   "name": "python",
   "nbconvert_exporter": "python",
   "pygments_lexer": "ipython3",
   "version": "3.10.9"
  }
 },
 "nbformat": 4,
 "nbformat_minor": 5
}
